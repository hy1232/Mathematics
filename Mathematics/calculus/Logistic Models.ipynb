{
 "cells": [
  {
   "cell_type": "markdown",
   "metadata": {},
   "source": [
    "# Logistic Growth Model \n",
    "\n",
    "We start with this **logistic differential equation.** \n",
    "\n",
    "$\\frac{dN}{dt} = r \\cdot N(1- \\frac{N}{K})$\n",
    "\n",
    "[Reference for the proof](https://sites.math.northwestern.edu/~mlerma/courses/math214-2-03f/notes/c2-logist.pdf) "
   ]
  },
  {
   "cell_type": "markdown",
   "metadata": {},
   "source": [
    "$\\frac{1}{N(1-\\frac{N}{K})} \\cdot dN = r \\cdot dt$"
   ]
  },
  {
   "cell_type": "markdown",
   "metadata": {},
   "source": [
    "I do the partial fraction expansion for the expression on the left-hand side. "
   ]
  },
  {
   "cell_type": "markdown",
   "metadata": {},
   "source": [
    "$(\\frac{1}{N} + \\frac{1/K}{1-\\frac{N}{K}}) \\cdot dN = r \\cdot dt$\n",
    "\n",
    "$(\\frac{1}{N} + \\frac{1}{K-N}) \\cdot dN = r \\cdot dt$\n",
    "\n",
    "And I take the anti-derivative on the both sides. \n",
    "\n",
    "$\\int \\frac{1}{N} \\cdot dN + \\int \\frac{1}{K-N} \\cdot dN = \\int r \\cdot dt$\n",
    "\n",
    "$ln(N) - ln(K-N) = rt + C$\n",
    "\n",
    "$ln(\\frac{N}{K-N}) = rt + C$\n",
    "\n",
    "$\\frac{N}{K-N} = e^{rt+C}$\n",
    "\n",
    "$\\frac{N}{K-N} = e^{rt} \\cdot e^{C}$\n",
    "\n",
    "$\\frac{K-N}{N} = e^{-rt} \\cdot e^{-C}$\n",
    "\n",
    "$\\frac{K}{N} = e^{-rt} \\cdot e^{-C} + 1$\n",
    "\n",
    "$\\frac{K}{N} = Ae^{-rt} + 1$\n",
    "\n",
    "$N = \\frac{K}{1+Ae^{-rt}}$"
   ]
  },
  {
   "cell_type": "markdown",
   "metadata": {},
   "source": [
    "Khan Academy does it quite differently. They treat N as a function of t. \n",
    "\n",
    "https://www.khanacademy.org/math/integral-calculus/ic-diff-eq/ic-logistic-models/v/solving-logistic-differential-equation-part-1?modal=1\n",
    "\n",
    "They both get the same answer, but I would like to revisit this and figure it out what is going on. \n",
    "\n",
    "I also need to make sure that I cover this application of logistic model \n",
    "\n",
    "https://www.khanacademy.org/math/integral-calculus/ic-diff-eq/ic-logistic-models/v/logistic-function-application?modal=1"
   ]
  },
  {
   "cell_type": "markdown",
   "metadata": {},
   "source": [
    "Okay, here we go. I said Khan Academy did the proof little differently than how the refence did. \n",
    "\n",
    "Instead of separating the variables, Sal just took integral with respect to $t$ on both sides. I guess that's okay as well. \n",
    "\n",
    "$\\frac{dN}{dt} = r \\cdot N(1- \\frac{N}{K})$\n",
    "\n",
    "$\\frac{1}{N(1- \\frac{N}{K})} \\cdot \\frac{dN}{dt} = r$\n",
    "\n",
    "$(\\frac{1}{N} + \\frac{1/K}{1-\\frac{N}{K}}) \\cdot \\frac{dN}{dt} = r$\n",
    "\n",
    "$(\\frac{1}{N} - \\frac{-1/K}{1-\\frac{N}{K}}) \\cdot \\frac{dN}{dt} = r$\n",
    "\n",
    "$\\int (\\frac{1}{N} - \\frac{-1/K}{1-\\frac{N}{K}}) \\cdot \\frac{dN}{dt} \\cdot dt = \\int r \\cdot dt$\n",
    "\n",
    "$(\\int \\frac{1}{N} \\cdot \\frac{dN}{dt} \\cdot dt) - (\\int \\frac{-1/K}{1-\\frac{N}{K}} \\cdot \\frac{dN}{dt} \\cdot dt) = rt + C_1$\n",
    "\n",
    "$ln(N) - (\\int \\frac{-1}{K} \\cdot (1-\\frac{N}{K})^{-1} \\cdot \\frac{dN}{dt} \\cdot dt) = rt + C_2$\n",
    "\n",
    "And I do the **U-sub**\n",
    "\n",
    "$U = (1- \\frac{N}{K})$\n",
    "\n",
    "$N$ is a function of $t$. So I have derivative with respect to $t$. \n",
    "\n",
    "$\\frac{dU}{dt} = \\frac{-1}{K} \\cdot \\frac{dN}{dt}$\n",
    "\n",
    "$dU = \\frac{-1}{K} \\cdot dN$\n",
    "\n",
    "$ln(N) - (\\int U^{-1}\\cdot dU) = rt + C_2$\n",
    "\n",
    "$ln(N) - ln(U) = rt + C$\n",
    "\n",
    "$ln(N) - ln(1-\\frac{N}{K}) = rt + C$\n",
    "\n",
    "$ln(\\frac{N}{1-\\frac{N}{K}}) = rt + C$\n",
    "\n",
    "$\\frac{N}{1-\\frac{N}{K}} = e^{rt+C}$\n",
    "\n",
    "This is exactly what Sal did. After this, he just solve for $N$ which I am not going to cover here. "
   ]
  }
 ],
 "metadata": {
  "kernelspec": {
   "display_name": "Python 3",
   "language": "python",
   "name": "python3"
  },
  "language_info": {
   "codemirror_mode": {
    "name": "ipython",
    "version": 3
   },
   "file_extension": ".py",
   "mimetype": "text/x-python",
   "name": "python",
   "nbconvert_exporter": "python",
   "pygments_lexer": "ipython3",
   "version": "3.8.5"
  }
 },
 "nbformat": 4,
 "nbformat_minor": 4
}
