{
 "cells": [
  {
   "cell_type": "markdown",
   "metadata": {},
   "source": [
    "# U-Substitution \n",
    "\n",
    "In calculus, integration by substitution, also known as u-substitution or change of variables, is a method for evaluating integrals and antiderivatives. It is the counterpart to the chain rule for differentiation, and can loosely be thought of as using the chain rule \"backwards.\" \n",
    "\n"
   ]
  },
  {
   "cell_type": "markdown",
   "metadata": {},
   "source": [
    "Say I have the following differential equation. \n",
    "\n",
    "$\\frac{df(x)}{dx} = -x \\cdot e^{-x^2}$\n",
    "\n",
    "I can treat $\\frac{df(x)}{dx}$ algebracally, so I can rearrange the equation as the following.\n",
    "\n",
    "$df(x) = -x \\cdot e^{-x^2} \\cdot dx$\n",
    "\n",
    "And integrate the both sides. \n",
    "\n",
    "$\\int df(x) = \\int -x \\cdot e^{-x^2} \\cdot dx$\n",
    "\n",
    "However, it would be super hard to do the anti-derivatives of the right-hand side of the equation. So we use the **U-substitution**. "
   ]
  },
  {
   "cell_type": "markdown",
   "metadata": {},
   "source": [
    "I define $U = -x^2$\n",
    "\n",
    "$\\frac{du}{dx} = -2x$\n",
    "\n",
    "$du = -2x \\cdot dx$\n",
    "\n",
    "From here, you have to use little bit of your intuition to make some changes to $du$. \n",
    "\n",
    "$\\frac{1}{2}du = -x \\cdot dx$\n",
    "\n",
    "This is what we had before. \n",
    "\n",
    "$\\int df(x) = \\int -x \\cdot e^{-x^2} \\cdot dx$\n",
    "\n",
    "AND I substitute with $U$ and $\\frac{1}{2}du$\n",
    "\n",
    "$\\int df(x) = \\int -x \\cdot e^{U} \\cdot dx$\n",
    "\n",
    "$\\int df(x) = \\int \\frac{1}{2} e^{U} \\cdot du$\n",
    "\n",
    "$f(x) + C_1 = \\frac{1}{2} e^{U} + C_2$\n",
    "\n",
    "$f(x) = \\frac{1}{2} e^{U} + C$\n",
    "\n",
    "And put $-x^2$ back to $U$\n",
    "\n",
    "$f(x) = \\frac{1}{2} e^{-x^2} + C$\n",
    "\n",
    "There you go! That's the end of U-substitution. "
   ]
  },
  {
   "cell_type": "markdown",
   "metadata": {},
   "source": [
    "**Let's try one more example** \n",
    "\n",
    "$\\frac{df(N)}{dN} = (\\frac{-1}{K}) \\cdot (1- \\frac{N}{K})^{-1}$\n",
    "\n",
    "$K$ is a constant. \n",
    "\n",
    "$\\int df(N) = \\int (\\frac{-1}{K}) \\cdot (1- \\frac{N}{K})^{-1} dN$\n"
   ]
  },
  {
   "cell_type": "markdown",
   "metadata": {},
   "source": [
    "This looks really complicated. Therefore, we have to use U-sub. \n",
    "\n",
    "Here, we have to use little bit of our intuition to choose what to be $U$. "
   ]
  },
  {
   "cell_type": "markdown",
   "metadata": {},
   "source": [
    "I choose $U = (1- \\frac{N}{K})$\n",
    "\n",
    "$\\frac{dU}{dN} = \\frac{-1}{K}$\n",
    "\n",
    "$dU = \\frac{-1}{K} \\cdot dN$\n",
    "\n",
    "Therefore, \n",
    "\n",
    "$f(N) + C_1 = \\int U^{-1} \\cdot dU$\n",
    "\n",
    "$f(N) + C_1 = ln(U) + C_2$\n",
    "\n",
    "$f(N) = ln(1- \\frac{N}{K}) + C$\n"
   ]
  }
 ],
 "metadata": {
  "kernelspec": {
   "display_name": "Python 3",
   "language": "python",
   "name": "python3"
  },
  "language_info": {
   "codemirror_mode": {
    "name": "ipython",
    "version": 3
   },
   "file_extension": ".py",
   "mimetype": "text/x-python",
   "name": "python",
   "nbconvert_exporter": "python",
   "pygments_lexer": "ipython3",
   "version": "3.8.5"
  }
 },
 "nbformat": 4,
 "nbformat_minor": 4
}
