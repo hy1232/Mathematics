{
 "cells": [
  {
   "cell_type": "code",
   "execution_count": 1,
   "metadata": {},
   "outputs": [],
   "source": [
    "import pandas as pd\n",
    "import numpy as np\n",
    "import matplotlib.pyplot as plt\n",
    "from scipy.linalg import lu\n",
    "from scipy.linalg import solve\n",
    "from scipy.linalg import inv\n",
    "from numpy.linalg import matrix_rank\n",
    "from matplotlib.ticker import (MultipleLocator, FormatStrFormatter, AutoMinorLocator)\n",
    "import matplotlib.colors as mcolors\n",
    "from scipy.stats import multivariate_normal\n",
    "from mpl_toolkits.mplot3d import Axes3D\n",
    "import scipy.stats as stats"
   ]
  },
  {
   "cell_type": "markdown",
   "metadata": {},
   "source": [
    "# Differential Equation \n",
    "\n",
    "What is a **differential equation**? \n",
    "\n",
    "Differential equation is **a equation that relates one function and its derivative.**\n",
    "\n",
    "For example, $\\frac{df(x)}{dx} = f(x)$\n",
    "\n"
   ]
  },
  {
   "cell_type": "markdown",
   "metadata": {},
   "source": [
    "### Separable Equation \n",
    "\n",
    "Say I have the following differential equation. \n",
    "\n",
    "$\\frac{df(x)}{dx} = G(x, f(x))$\n",
    "\n",
    "and $G(x, f(x)) = g(x) \\cdot f(x)$\n",
    "\n",
    "therefore, $\\frac{df(x)}{dx} = g(x) \\cdot f(x)$\n",
    "\n",
    "Then I can rearrange as the following: \n",
    "\n",
    "$F(x) \\cdot df(x) = g(x) \\cdot dx$\n",
    "\n",
    "If the following rearrangement is possible, then the equation is a separable equation."
   ]
  },
  {
   "cell_type": "markdown",
   "metadata": {},
   "source": [
    "### Exponential Models\n",
    "\n",
    "**Modeling Population** \n",
    "\n",
    "$P = Population \\ \\ $ and $ \\ \\ t = time$\n",
    "\n",
    "Suppose the population is a function $t$, $P(t)$. \n",
    "\n",
    "And $\\frac{dP(t)}{dt} = K \\cdot P(t)$\n",
    "\n",
    "This is a reasonable model, because bigger the population, bigger the rate of change it will be. The bigger population will give more birth. \n",
    "\n",
    "For the given differential equation, we would like to know what $P(t)$ is. \n",
    "\n",
    "Since this is separable, let's rearange them. \n",
    "\n",
    "$\\frac{1}{P(t)} dP(t) = K dt$\n",
    "\n",
    "and take the integral on both sides. \n",
    "\n",
    "$\\int \\frac{1}{P(t)} dP(t) = \\int K dt$\n",
    "\n",
    "$ln(P(t)) + C_1 = Kt + C_2$\n",
    "\n",
    "$ln(P(t)) = Kt + C$\n",
    "\n",
    "$P(t) = e^{Kt + C}$\n",
    "\n",
    "$P(t) = e^C \\cdot e^{Kt}$\n",
    "\n",
    "$P(t) = C^* \\cdot e^{Kt}$\n",
    "\n",
    "And say we observe $(t_0,P_0) = (0,10)$ and $(t_1,P_1) = (5,12)$\n",
    "\n",
    "If we plug in the values for $(t_0,P_0) = (0,10)$, then we get $C^* = 10$\n",
    "\n",
    "Therefore, $P(t) = 10 \\cdot e^{Kt}$\n",
    "\n",
    "And we have to figure out what $K$ is. So we plug in $(t_1,P_1) = (5,12)$ into the equation.  \n",
    "\n",
    "$\\frac{6}{5} = e^{5 \\cdot k}$\n",
    "\n",
    "$ln(\\frac{6}{5}) = 5k$\n",
    "\n",
    "$k = \\frac{ln(\\frac{6}{5})}{5}$\n",
    "\n",
    "Finally, we have to complete equation for $P(t)$\n",
    "\n",
    "$P(t) = 10 \\cdot e^{k \\cdot t}$\n",
    "\n",
    "I won't put the whole equation here, because it doesn't look pretty altogether. But you can just plug in $k$ into the final equation.\n",
    "\n"
   ]
  },
  {
   "cell_type": "code",
   "execution_count": 60,
   "metadata": {},
   "outputs": [
    {
     "data": {
      "image/png": "[encoded data removed]",
      "text/plain": [
       "<Figure size 576x288 with 1 Axes>"
      ]
     },
     "metadata": {
      "needs_background": "light"
     },
     "output_type": "display_data"
    }
   ],
   "source": [
    "from numpy import log as ln\n",
    "\n",
    "fig = plt.figure(figsize=(8,4))\n",
    "ax = fig.add_axes([0,0,1,1])\n",
    "\n",
    "ax.set_ylim(-10, 40)\n",
    "ax.set_xlim(-20, 40)\n",
    "ax.set_xlabel('Time', fontsize='large', fontfamily='serif', fontweight='bold')\n",
    "ax.set_ylabel('Population', fontsize='large', fontfamily='serif', fontweight='bold')\n",
    "ax.grid()\n",
    "\n",
    "ax.axvline(x=0, color=\"black\")\n",
    "ax.axhline(y=0, color=\"black\")\n",
    "\n",
    "ax.xaxis.set_major_locator(MultipleLocator(5.00))\n",
    "ax.yaxis.set_major_locator(MultipleLocator(5.00))\n",
    "\n",
    "t = np.arange(-20,40,0.01)\n",
    "e = np.e \n",
    "\n",
    "exponent = (ln(6/5)*t)/5\n",
    "pop = 10 * e**(exponent)\n",
    "\n",
    "ax.plot(t, pop, color='green')\n",
    "ax.scatter(0,10, color='red')\n",
    "ax.scatter(5,12, color='red')\n",
    "\n",
    "ax.set_title('Population Model', fontsize=15, fontfamily='serif', ma='center', fontweight='bold')\n",
    "plt.show()"
   ]
  },
  {
   "cell_type": "markdown",
   "metadata": {},
   "source": [
    "**Side note** \n",
    "\n",
    "This is something I found accidently. \n",
    "\n",
    "$\\int x \\ ln(x) \\ dx$\n",
    "\n",
    "I would like to know the integral of $x \\ ln(x)$. How should I solve it? Well, I have to use the **integration by parts**. \n",
    "\n",
    "$\\frac{df(x)g(x)}{dx} = f'(x) \\cdot g(x) + g'(x) \\cdot f(x)$\n",
    "\n",
    "$\\int \\frac{df(x)g(x)}{dx} dx = \\int f'(x) \\cdot g(x) \\ dx + \\int g'(x) \\cdot f(x) \\ dx$\n",
    "\n",
    "$f(x) \\cdot g(x) = \\int f'(x) \\cdot g(x) \\ dx + \\int g'(x) \\cdot f(x) \\ dx$\n",
    "\n",
    "We can rearrange \n",
    "\n",
    "$\\int f'(x) \\cdot g(x) \\ dx = f(x) \\cdot g(x) - \\int g'(x) \\cdot f(x) \\ dx$\n",
    "\n",
    "And we can suppose that $\\int f'(x) \\cdot g(x) \\ dx = \\int x \\ ln(x) \\ dx$ \n",
    "\n",
    "$\\int x \\ ln(x) \\ dx = f(x) \\cdot g(x) - \\int g'(x) \\cdot f(x) \\ dx$\n",
    "\n",
    "So from here, we can figure out the rest of it and find out the answer. \n",
    "\n",
    "Because we know that $f'(x) = x$ and $g(x) = ln(x)$"
   ]
  },
  {
   "cell_type": "markdown",
   "metadata": {},
   "source": [
    "**Important Theorem** \n",
    "\n",
    "For a given differential equation, there might not be an unique solution, $y(x)$. In order for a differential equation to have a unique solution, $y(x)$, the following requirements has to be satisfied. \n",
    "\n",
    "1. A given differential equation can be rearranged into the following form: $\\frac{dy}{dx} + p(x) \\cdot y = Q(x)$\n",
    "\n",
    "2. The functions, $p(x)$ and $Q(x)$ should be continuous. \n",
    "\n",
    "For example, let's say $p(x) = \\frac{1}{x}$. Then the differential equation won't have a unique solution, $y(x)$ at the point where x =0. Because $\\frac{1}{x}$ is not continuous at $x=0$. \n",
    "\n"
   ]
  }
 ],
 "metadata": {
  "kernelspec": {
   "display_name": "Python 3",
   "language": "python",
   "name": "python3"
  },
  "language_info": {
   "codemirror_mode": {
    "name": "ipython",
    "version": 3
   },
   "file_extension": ".py",
   "mimetype": "text/x-python",
   "name": "python",
   "nbconvert_exporter": "python",
   "pygments_lexer": "ipython3",
   "version": "3.8.5"
  }
 },
 "nbformat": 4,
 "nbformat_minor": 4
}
